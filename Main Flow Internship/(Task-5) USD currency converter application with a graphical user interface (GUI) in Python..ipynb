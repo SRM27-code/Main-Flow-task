{
 "cells": [
  {
   "cell_type": "code",
   "execution_count": 1,
   "id": "cd3444f9",
   "metadata": {
    "scrolled": false
   },
   "outputs": [
    {
     "name": "stdout",
     "output_type": "stream",
     "text": [
      "Requirement already satisfied: requests in c:\\users\\shubh\\anaconda3\\lib\\site-packages (2.27.1)Note: you may need to restart the kernel to use updated packages.\n",
      "Requirement already satisfied: certifi>=2017.4.17 in c:\\users\\shubh\\anaconda3\\lib\\site-packages (from requests) (2021.10.8)\n",
      "Requirement already satisfied: urllib3<1.27,>=1.21.1 in c:\\users\\shubh\\anaconda3\\lib\\site-packages (from requests) (1.26.9)\n",
      "Requirement already satisfied: charset-normalizer~=2.0.0 in c:\\users\\shubh\\anaconda3\\lib\\site-packages (from requests) (2.0.4)\n",
      "Requirement already satisfied: idna<4,>=2.5 in c:\\users\\shubh\\anaconda3\\lib\\site-packages (from requests) (3.3)\n",
      "\n"
     ]
    },
    {
     "name": "stderr",
     "output_type": "stream",
     "text": [
      "WARNING: Ignoring invalid distribution -rotobuf (c:\\users\\shubh\\anaconda3\\lib\\site-packages)\n",
      "WARNING: Ignoring invalid distribution -rotobuf (c:\\users\\shubh\\anaconda3\\lib\\site-packages)\n",
      "WARNING: Ignoring invalid distribution -rotobuf (c:\\users\\shubh\\anaconda3\\lib\\site-packages)\n",
      "WARNING: Ignoring invalid distribution -rotobuf (c:\\users\\shubh\\anaconda3\\lib\\site-packages)\n",
      "WARNING: Ignoring invalid distribution -rotobuf (c:\\users\\shubh\\anaconda3\\lib\\site-packages)\n",
      "WARNING: Ignoring invalid distribution -rotobuf (c:\\users\\shubh\\anaconda3\\lib\\site-packages)\n"
     ]
    }
   ],
   "source": [
    "pip install requests"
   ]
  },
  {
   "cell_type": "code",
   "execution_count": 2,
   "id": "cc4196b9",
   "metadata": {},
   "outputs": [],
   "source": [
    "def convert_currency(amount_in_usd, target_currency, exchange_rates):\n",
    "    if target_currency in exchange_rates:\n",
    "        converted_amount = amount_in_usd * exchange_rates[target_currency]\n",
    "        return converted_amount\n",
    "    else:\n",
    "        raise ValueError(\"Invalid target currency.\")"
   ]
  },
  {
   "cell_type": "code",
   "execution_count": 11,
   "id": "2c51ee02",
   "metadata": {},
   "outputs": [
    {
     "name": "stdout",
     "output_type": "stream",
     "text": [
      "Exchange rates updated: {'USD': 1, 'AED': 3.67, 'AFN': 70.81, 'ALL': 91.57, 'AMD': 388.31, 'ANG': 1.79, 'AOA': 888.52, 'ARS': 939.83, 'AUD': 1.52, 'AWG': 1.79, 'AZN': 1.7, 'BAM': 1.79, 'BBD': 2, 'BDT': 117.54, 'BGN': 1.79, 'BHD': 0.376, 'BIF': 2883.84, 'BMD': 1, 'BND': 1.32, 'BOB': 6.92, 'BRL': 5.5, 'BSD': 1, 'BTN': 83.97, 'BWP': 13.54, 'BYN': 3.27, 'BZD': 2, 'CAD': 1.37, 'CDF': 2845.4, 'CHF': 0.866, 'CLP': 932.41, 'CNY': 7.18, 'COP': 4075.58, 'CRC': 529.31, 'CUP': 24, 'CVE': 100.9, 'CZK': 23.04, 'DJF': 177.72, 'DKK': 6.83, 'DOP': 59.72, 'DZD': 134.57, 'EGP': 49.31, 'ERN': 15, 'ETB': 101.72, 'EUR': 0.915, 'FJD': 2.24, 'FKP': 0.783, 'FOK': 6.83, 'GBP': 0.783, 'GEL': 2.69, 'GGP': 0.783, 'GHS': 15.68, 'GIP': 0.783, 'GMD': 69.54, 'GNF': 8669.92, 'GTQ': 7.75, 'GYD': 209.24, 'HKD': 7.79, 'HNL': 24.76, 'HRK': 6.89, 'HTG': 131.76, 'HUF': 360.41, 'IDR': 15961.55, 'ILS': 3.78, 'IMP': 0.783, 'INR': 83.97, 'IQD': 1311.89, 'IRR': 42098.61, 'ISK': 138.31, 'JEP': 0.783, 'JMD': 157.05, 'JOD': 0.709, 'JPY': 147.22, 'KES': 128.96, 'KGS': 84.92, 'KHR': 4077.39, 'KID': 1.52, 'KMF': 450.17, 'KRW': 1369.39, 'KWD': 0.306, 'KYD': 0.833, 'KZT': 479.53, 'LAK': 22032.7, 'LBP': 89500, 'LKR': 299.41, 'LRD': 195.4, 'LSL': 18.24, 'LYD': 4.8, 'MAD': 9.83, 'MDL': 17.63, 'MGA': 4569.07, 'MKD': 56.33, 'MMK': 2095.78, 'MNT': 3351.35, 'MOP': 8.03, 'MRU': 39.77, 'MUR': 46.31, 'MVR': 15.43, 'MWK': 1744.66, 'MXN': 19.03, 'MYR': 4.45, 'MZN': 63.92, 'NAD': 18.24, 'NGN': 1569.84, 'NIO': 36.81, 'NOK': 10.8, 'NPR': 134.35, 'NZD': 1.66, 'OMR': 0.384, 'PAB': 1, 'PEN': 3.73, 'PGK': 3.88, 'PHP': 57.3, 'PKR': 278.61, 'PLN': 3.94, 'PYG': 7601.77, 'QAR': 3.64, 'RON': 4.56, 'RSD': 107.09, 'RUB': 90.3, 'RWF': 1324.64, 'SAR': 3.75, 'SBD': 8.48, 'SCR': 13.73, 'SDG': 453.98, 'SEK': 10.53, 'SGD': 1.32, 'SHP': 0.783, 'SLE': 22.55, 'SLL': 22546.69, 'SOS': 571.39, 'SRD': 29.11, 'SSP': 2521.64, 'STN': 22.42, 'SYP': 12881.36, 'SZL': 18.24, 'THB': 35.2, 'TJS': 10.64, 'TMT': 3.5, 'TND': 3.08, 'TOP': 2.34, 'TRY': 33.55, 'TTD': 6.77, 'TVD': 1.52, 'TWD': 32.38, 'TZS': 2699.01, 'UAH': 41.31, 'UGX': 3730.43, 'UYU': 40.33, 'UZS': 12675.84, 'VES': 36.63, 'VND': 25141.16, 'VUV': 118.35, 'WST': 2.75, 'XAF': 600.22, 'XCD': 2.7, 'XDR': 0.749, 'XOF': 600.22, 'XPF': 109.19, 'YER': 250.2, 'ZAR': 18.24, 'ZMW': 26.2, 'ZWL': 13.78}\n"
     ]
    }
   ],
   "source": [
    "import tkinter as tk\n",
    "from tkinter import ttk\n",
    "import requests\n",
    "\n",
    "# Global dictionary to store exchange rates\n",
    "exchange_rates = {}\n",
    "\n",
    "def refresh_rates():\n",
    "    global exchange_rates\n",
    "    try:\n",
    "        # Example API call to get exchange rates (replace with your actual API endpoint)\n",
    "        response = requests.get(\"https://api.exchangerate-api.com/v4/latest/USD\")\n",
    "        exchange_rates = response.json().get('rates', {})\n",
    "        print(\"Exchange rates updated:\", exchange_rates)\n",
    "    except Exception as e:\n",
    "        print(\"Error fetching exchange rates:\", e)\n",
    "\n",
    "def convert_currency(amount_in_usd, target_currency):\n",
    "    if target_currency in exchange_rates:\n",
    "        converted_amount = amount_in_usd * exchange_rates[target_currency]\n",
    "        return converted_amount\n",
    "    else:\n",
    "        raise ValueError(\"Invalid target currency.\")\n",
    "\n",
    "def perform_conversion():\n",
    "    try:\n",
    "        amount = float(usd_entry.get())\n",
    "        target_currency = currency_var.get()\n",
    "        converted_amount = convert_currency(amount, target_currency)\n",
    "        result_label.config(text=f\"{amount:.2f} USD = {converted_amount:.2f} {target_currency}\", \n",
    "                            font=(\"Arial\", 16, \"bold\"), \n",
    "                            fg=\"green\")\n",
    "    except ValueError as ve:\n",
    "        result_label.config(text=str(ve), font=(\"Arial\", 12), fg=\"red\")\n",
    "    except Exception as e:\n",
    "        result_label.config(text=\"Error: \" + str(e), font=(\"Arial\", 12), fg=\"red\")\n",
    "\n",
    "# Main Application Window\n",
    "root = tk.Tk()\n",
    "root.title(\"USD Currency Converter\")\n",
    "root.geometry(\"400x250\")  # Set the window size\n",
    "\n",
    "# Set the style for widgets\n",
    "style = ttk.Style()\n",
    "style.configure(\"TLabel\", font=(\"Arial\", 12))\n",
    "style.configure(\"TButton\", font=(\"Arial\", 12))\n",
    "style.configure(\"TEntry\", font=(\"Arial\", 12))\n",
    "\n",
    "# Input USD Amount\n",
    "tk.Label(root, text=\"Amount in USD:\", font=(\"Arial\", 14)).grid(row=0, column=0, padx=10, pady=10, sticky=\"e\")\n",
    "usd_entry = tk.Entry(root, font=(\"Arial\", 14))\n",
    "usd_entry.grid(row=0, column=1, padx=10, pady=10)\n",
    "\n",
    "# Currency Dropdown\n",
    "tk.Label(root, text=\"Convert to:\", font=(\"Arial\", 14)).grid(row=1, column=0, padx=10, pady=10, sticky=\"e\")\n",
    "currency_var = tk.StringVar(root)\n",
    "currency_dropdown = ttk.OptionMenu(root, currency_var, \"Select Currency\", \"EUR\", \"GBP\", \"JPY\", \"INR\")\n",
    "currency_dropdown.grid(row=1, column=1, padx=10, pady=10)\n",
    "\n",
    "# Convert Button\n",
    "convert_button = ttk.Button(root, text=\"Convert\", command=perform_conversion)\n",
    "convert_button.grid(row=2, column=0, columnspan=2, pady=10)\n",
    "\n",
    "# Result Label\n",
    "result_label = tk.Label(root, text=\"Conversion result will appear here\", font=(\"Arial\", 14), fg=\"blue\")\n",
    "result_label.grid(row=3, column=0, columnspan=2, pady=20)\n",
    "\n",
    "# Refresh Rates Button\n",
    "refresh_button = ttk.Button(root, text=\"Refresh Rates\", command=refresh_rates)\n",
    "refresh_button.grid(row=4, column=0, columnspan=2, pady=10)\n",
    "\n",
    "# Fetch initial exchange rates when the application starts\n",
    "refresh_rates()\n",
    "\n",
    "# Start the main loop\n",
    "root.mainloop()"
   ]
  },
  {
   "cell_type": "code",
   "execution_count": null,
   "id": "f9eed45e",
   "metadata": {},
   "outputs": [],
   "source": []
  }
 ],
 "metadata": {
  "kernelspec": {
   "display_name": "Python 3 (ipykernel)",
   "language": "python",
   "name": "python3"
  },
  "language_info": {
   "codemirror_mode": {
    "name": "ipython",
    "version": 3
   },
   "file_extension": ".py",
   "mimetype": "text/x-python",
   "name": "python",
   "nbconvert_exporter": "python",
   "pygments_lexer": "ipython3",
   "version": "3.9.12"
  }
 },
 "nbformat": 4,
 "nbformat_minor": 5
}
